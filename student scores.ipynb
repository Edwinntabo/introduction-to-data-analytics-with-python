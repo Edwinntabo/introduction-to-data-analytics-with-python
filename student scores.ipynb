{
 "cells": [
  {
   "cell_type": "markdown",
   "id": "5c68f677-fdbe-4cdf-a717-118a98508d71",
   "metadata": {},
   "source": [
    "NAME:EDWIN NTABO NYABONYI"
   ]
  },
  {
   "cell_type": "markdown",
   "id": "8d0fd766-5942-4e25-a945-b70d92eeb939",
   "metadata": {},
   "source": [
    "REG. NO.:FAB/DV/022"
   ]
  },
  {
   "cell_type": "markdown",
   "id": "297bd76e-14b4-46b6-8c85-d8eb8a53cb96",
   "metadata": {},
   "source": [
    "              NUMBER 1"
   ]
  },
  {
   "cell_type": "code",
   "execution_count": 1,
   "id": "7bc44fc0-aa2f-4ef7-aa50-5de089217462",
   "metadata": {},
   "outputs": [],
   "source": [
    "import pandas as pd"
   ]
  },
  {
   "cell_type": "code",
   "execution_count": 16,
   "id": "f763bf97-ba5e-45cc-a1a2-f61f0c8055f3",
   "metadata": {},
   "outputs": [],
   "source": [
    "data={\"student\":['joy', 'mark', 'phillip', 'David', 'Evaleen','robinson','peter'],\n",
    "    'Math': [85, 92, 88, 91, 79,56,70],\n",
    "    'Science': [90, 87, 85, 94, 80,76,79],\n",
    "    'English': [78, 85, 82, 88, 77,78,63]\n",
    "}\n"
   ]
  },
  {
   "cell_type": "code",
   "execution_count": 17,
   "id": "b2d58c6d-3225-4043-8f3e-c8dc83b40af4",
   "metadata": {},
   "outputs": [],
   "source": [
    "df=pd.DataFrame(data)"
   ]
  },
  {
   "cell_type": "code",
   "execution_count": 18,
   "id": "fdf84c20-3af4-4cba-aea9-0c33f39b155e",
   "metadata": {},
   "outputs": [
    {
     "data": {
      "text/html": [
       "<div>\n",
       "<style scoped>\n",
       "    .dataframe tbody tr th:only-of-type {\n",
       "        vertical-align: middle;\n",
       "    }\n",
       "\n",
       "    .dataframe tbody tr th {\n",
       "        vertical-align: top;\n",
       "    }\n",
       "\n",
       "    .dataframe thead th {\n",
       "        text-align: right;\n",
       "    }\n",
       "</style>\n",
       "<table border=\"1\" class=\"dataframe\">\n",
       "  <thead>\n",
       "    <tr style=\"text-align: right;\">\n",
       "      <th></th>\n",
       "      <th>student</th>\n",
       "      <th>Math</th>\n",
       "      <th>Science</th>\n",
       "      <th>English</th>\n",
       "    </tr>\n",
       "  </thead>\n",
       "  <tbody>\n",
       "    <tr>\n",
       "      <th>0</th>\n",
       "      <td>joy</td>\n",
       "      <td>85</td>\n",
       "      <td>90</td>\n",
       "      <td>78</td>\n",
       "    </tr>\n",
       "    <tr>\n",
       "      <th>1</th>\n",
       "      <td>mark</td>\n",
       "      <td>92</td>\n",
       "      <td>87</td>\n",
       "      <td>85</td>\n",
       "    </tr>\n",
       "    <tr>\n",
       "      <th>2</th>\n",
       "      <td>phillip</td>\n",
       "      <td>88</td>\n",
       "      <td>85</td>\n",
       "      <td>82</td>\n",
       "    </tr>\n",
       "    <tr>\n",
       "      <th>3</th>\n",
       "      <td>David</td>\n",
       "      <td>91</td>\n",
       "      <td>94</td>\n",
       "      <td>88</td>\n",
       "    </tr>\n",
       "    <tr>\n",
       "      <th>4</th>\n",
       "      <td>Evaleen</td>\n",
       "      <td>79</td>\n",
       "      <td>80</td>\n",
       "      <td>77</td>\n",
       "    </tr>\n",
       "    <tr>\n",
       "      <th>5</th>\n",
       "      <td>robinson</td>\n",
       "      <td>56</td>\n",
       "      <td>76</td>\n",
       "      <td>78</td>\n",
       "    </tr>\n",
       "    <tr>\n",
       "      <th>6</th>\n",
       "      <td>peter</td>\n",
       "      <td>70</td>\n",
       "      <td>79</td>\n",
       "      <td>63</td>\n",
       "    </tr>\n",
       "  </tbody>\n",
       "</table>\n",
       "</div>"
      ],
      "text/plain": [
       "    student  Math  Science  English\n",
       "0       joy    85       90       78\n",
       "1      mark    92       87       85\n",
       "2   phillip    88       85       82\n",
       "3     David    91       94       88\n",
       "4   Evaleen    79       80       77\n",
       "5  robinson    56       76       78\n",
       "6     peter    70       79       63"
      ]
     },
     "execution_count": 18,
     "metadata": {},
     "output_type": "execute_result"
    }
   ],
   "source": [
    "df"
   ]
  },
  {
   "cell_type": "code",
   "execution_count": 19,
   "id": "132a64bb-9a48-4fb8-9f76-6a80b3585ba4",
   "metadata": {},
   "outputs": [],
   "source": [
    "df['Average'] = df[['Math', 'Science', 'English']].mean(axis=1)"
   ]
  },
  {
   "cell_type": "code",
   "execution_count": 20,
   "id": "d8cac251-eadc-4fbd-980b-808f0023b74c",
   "metadata": {},
   "outputs": [
    {
     "data": {
      "text/html": [
       "<div>\n",
       "<style scoped>\n",
       "    .dataframe tbody tr th:only-of-type {\n",
       "        vertical-align: middle;\n",
       "    }\n",
       "\n",
       "    .dataframe tbody tr th {\n",
       "        vertical-align: top;\n",
       "    }\n",
       "\n",
       "    .dataframe thead th {\n",
       "        text-align: right;\n",
       "    }\n",
       "</style>\n",
       "<table border=\"1\" class=\"dataframe\">\n",
       "  <thead>\n",
       "    <tr style=\"text-align: right;\">\n",
       "      <th></th>\n",
       "      <th>student</th>\n",
       "      <th>Math</th>\n",
       "      <th>Science</th>\n",
       "      <th>English</th>\n",
       "      <th>Average</th>\n",
       "    </tr>\n",
       "  </thead>\n",
       "  <tbody>\n",
       "    <tr>\n",
       "      <th>0</th>\n",
       "      <td>joy</td>\n",
       "      <td>85</td>\n",
       "      <td>90</td>\n",
       "      <td>78</td>\n",
       "      <td>84.333333</td>\n",
       "    </tr>\n",
       "    <tr>\n",
       "      <th>1</th>\n",
       "      <td>mark</td>\n",
       "      <td>92</td>\n",
       "      <td>87</td>\n",
       "      <td>85</td>\n",
       "      <td>88.000000</td>\n",
       "    </tr>\n",
       "    <tr>\n",
       "      <th>2</th>\n",
       "      <td>phillip</td>\n",
       "      <td>88</td>\n",
       "      <td>85</td>\n",
       "      <td>82</td>\n",
       "      <td>85.000000</td>\n",
       "    </tr>\n",
       "    <tr>\n",
       "      <th>3</th>\n",
       "      <td>David</td>\n",
       "      <td>91</td>\n",
       "      <td>94</td>\n",
       "      <td>88</td>\n",
       "      <td>91.000000</td>\n",
       "    </tr>\n",
       "    <tr>\n",
       "      <th>4</th>\n",
       "      <td>Evaleen</td>\n",
       "      <td>79</td>\n",
       "      <td>80</td>\n",
       "      <td>77</td>\n",
       "      <td>78.666667</td>\n",
       "    </tr>\n",
       "    <tr>\n",
       "      <th>5</th>\n",
       "      <td>robinson</td>\n",
       "      <td>56</td>\n",
       "      <td>76</td>\n",
       "      <td>78</td>\n",
       "      <td>70.000000</td>\n",
       "    </tr>\n",
       "    <tr>\n",
       "      <th>6</th>\n",
       "      <td>peter</td>\n",
       "      <td>70</td>\n",
       "      <td>79</td>\n",
       "      <td>63</td>\n",
       "      <td>70.666667</td>\n",
       "    </tr>\n",
       "  </tbody>\n",
       "</table>\n",
       "</div>"
      ],
      "text/plain": [
       "    student  Math  Science  English    Average\n",
       "0       joy    85       90       78  84.333333\n",
       "1      mark    92       87       85  88.000000\n",
       "2   phillip    88       85       82  85.000000\n",
       "3     David    91       94       88  91.000000\n",
       "4   Evaleen    79       80       77  78.666667\n",
       "5  robinson    56       76       78  70.000000\n",
       "6     peter    70       79       63  70.666667"
      ]
     },
     "execution_count": 20,
     "metadata": {},
     "output_type": "execute_result"
    }
   ],
   "source": [
    "df"
   ]
  },
  {
   "cell_type": "code",
   "execution_count": 21,
   "id": "e26b22e9-dc89-4341-b417-1625ae21606a",
   "metadata": {},
   "outputs": [],
   "source": [
    "highest_avg = df[df['Average'] == df['Average'].max()]"
   ]
  },
  {
   "cell_type": "code",
   "execution_count": 22,
   "id": "7bd82521-c272-4bc7-80e3-be7cde07460f",
   "metadata": {},
   "outputs": [
    {
     "data": {
      "text/html": [
       "<div>\n",
       "<style scoped>\n",
       "    .dataframe tbody tr th:only-of-type {\n",
       "        vertical-align: middle;\n",
       "    }\n",
       "\n",
       "    .dataframe tbody tr th {\n",
       "        vertical-align: top;\n",
       "    }\n",
       "\n",
       "    .dataframe thead th {\n",
       "        text-align: right;\n",
       "    }\n",
       "</style>\n",
       "<table border=\"1\" class=\"dataframe\">\n",
       "  <thead>\n",
       "    <tr style=\"text-align: right;\">\n",
       "      <th></th>\n",
       "      <th>student</th>\n",
       "      <th>Math</th>\n",
       "      <th>Science</th>\n",
       "      <th>English</th>\n",
       "      <th>Average</th>\n",
       "    </tr>\n",
       "  </thead>\n",
       "  <tbody>\n",
       "    <tr>\n",
       "      <th>3</th>\n",
       "      <td>David</td>\n",
       "      <td>91</td>\n",
       "      <td>94</td>\n",
       "      <td>88</td>\n",
       "      <td>91.0</td>\n",
       "    </tr>\n",
       "  </tbody>\n",
       "</table>\n",
       "</div>"
      ],
      "text/plain": [
       "  student  Math  Science  English  Average\n",
       "3   David    91       94       88     91.0"
      ]
     },
     "execution_count": 22,
     "metadata": {},
     "output_type": "execute_result"
    }
   ],
   "source": [
    "highest_avg"
   ]
  },
  {
   "cell_type": "code",
   "execution_count": 23,
   "id": "91ba5548-bd3e-4f12-863b-ef659b4d965e",
   "metadata": {},
   "outputs": [],
   "source": [
    "sorted_df = df.sort_values(by='Average', ascending=False)"
   ]
  },
  {
   "cell_type": "code",
   "execution_count": 24,
   "id": "d565b894-9096-4bb4-9fbe-781b99ea7390",
   "metadata": {},
   "outputs": [
    {
     "data": {
      "text/html": [
       "<div>\n",
       "<style scoped>\n",
       "    .dataframe tbody tr th:only-of-type {\n",
       "        vertical-align: middle;\n",
       "    }\n",
       "\n",
       "    .dataframe tbody tr th {\n",
       "        vertical-align: top;\n",
       "    }\n",
       "\n",
       "    .dataframe thead th {\n",
       "        text-align: right;\n",
       "    }\n",
       "</style>\n",
       "<table border=\"1\" class=\"dataframe\">\n",
       "  <thead>\n",
       "    <tr style=\"text-align: right;\">\n",
       "      <th></th>\n",
       "      <th>student</th>\n",
       "      <th>Math</th>\n",
       "      <th>Science</th>\n",
       "      <th>English</th>\n",
       "      <th>Average</th>\n",
       "    </tr>\n",
       "  </thead>\n",
       "  <tbody>\n",
       "    <tr>\n",
       "      <th>3</th>\n",
       "      <td>David</td>\n",
       "      <td>91</td>\n",
       "      <td>94</td>\n",
       "      <td>88</td>\n",
       "      <td>91.000000</td>\n",
       "    </tr>\n",
       "    <tr>\n",
       "      <th>1</th>\n",
       "      <td>mark</td>\n",
       "      <td>92</td>\n",
       "      <td>87</td>\n",
       "      <td>85</td>\n",
       "      <td>88.000000</td>\n",
       "    </tr>\n",
       "    <tr>\n",
       "      <th>2</th>\n",
       "      <td>phillip</td>\n",
       "      <td>88</td>\n",
       "      <td>85</td>\n",
       "      <td>82</td>\n",
       "      <td>85.000000</td>\n",
       "    </tr>\n",
       "    <tr>\n",
       "      <th>0</th>\n",
       "      <td>joy</td>\n",
       "      <td>85</td>\n",
       "      <td>90</td>\n",
       "      <td>78</td>\n",
       "      <td>84.333333</td>\n",
       "    </tr>\n",
       "    <tr>\n",
       "      <th>4</th>\n",
       "      <td>Evaleen</td>\n",
       "      <td>79</td>\n",
       "      <td>80</td>\n",
       "      <td>77</td>\n",
       "      <td>78.666667</td>\n",
       "    </tr>\n",
       "    <tr>\n",
       "      <th>6</th>\n",
       "      <td>peter</td>\n",
       "      <td>70</td>\n",
       "      <td>79</td>\n",
       "      <td>63</td>\n",
       "      <td>70.666667</td>\n",
       "    </tr>\n",
       "    <tr>\n",
       "      <th>5</th>\n",
       "      <td>robinson</td>\n",
       "      <td>56</td>\n",
       "      <td>76</td>\n",
       "      <td>78</td>\n",
       "      <td>70.000000</td>\n",
       "    </tr>\n",
       "  </tbody>\n",
       "</table>\n",
       "</div>"
      ],
      "text/plain": [
       "    student  Math  Science  English    Average\n",
       "3     David    91       94       88  91.000000\n",
       "1      mark    92       87       85  88.000000\n",
       "2   phillip    88       85       82  85.000000\n",
       "0       joy    85       90       78  84.333333\n",
       "4   Evaleen    79       80       77  78.666667\n",
       "6     peter    70       79       63  70.666667\n",
       "5  robinson    56       76       78  70.000000"
      ]
     },
     "execution_count": 24,
     "metadata": {},
     "output_type": "execute_result"
    }
   ],
   "source": [
    "sorted_df"
   ]
  },
  {
   "cell_type": "markdown",
   "id": "230ddaa8-03d3-45ca-bd96-4528a34126d6",
   "metadata": {},
   "source": [
    "        NUMBER 2"
   ]
  },
  {
   "cell_type": "code",
   "execution_count": 26,
   "id": "7ce7ce6b-0fa2-4646-ab9c-15076b0e8478",
   "metadata": {},
   "outputs": [],
   "source": [
    "temperatures = [13, 20, 37, 19,23,43,54,65]"
   ]
  },
  {
   "cell_type": "code",
   "execution_count": 27,
   "id": "102bf0be-4f2d-47b1-9fbc-b2899d8f8a54",
   "metadata": {},
   "outputs": [],
   "source": [
    "fahrenheit_temperatures = [(temp * 9/8) + 32 for temp in temperatures]"
   ]
  },
  {
   "cell_type": "code",
   "execution_count": 28,
   "id": "0895ff72-c04d-4ca0-89bf-3b6760ce1e0d",
   "metadata": {},
   "outputs": [
    {
     "data": {
      "text/plain": [
       "[46.625, 54.5, 73.625, 53.375, 57.875, 80.375, 92.75, 105.125]"
      ]
     },
     "execution_count": 28,
     "metadata": {},
     "output_type": "execute_result"
    }
   ],
   "source": [
    "fahrenheit_temperatures"
   ]
  },
  {
   "cell_type": "code",
   "execution_count": null,
   "id": "0fc60d4a-859f-403b-9a90-fc57a02dc6d9",
   "metadata": {},
   "outputs": [],
   "source": []
  }
 ],
 "metadata": {
  "kernelspec": {
   "display_name": "Python 3 (ipykernel)",
   "language": "python",
   "name": "python3"
  },
  "language_info": {
   "codemirror_mode": {
    "name": "ipython",
    "version": 3
   },
   "file_extension": ".py",
   "mimetype": "text/x-python",
   "name": "python",
   "nbconvert_exporter": "python",
   "pygments_lexer": "ipython3",
   "version": "3.12.4"
  }
 },
 "nbformat": 4,
 "nbformat_minor": 5
}
